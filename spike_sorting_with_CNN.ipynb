{
  "nbformat": 4,
  "nbformat_minor": 0,
  "metadata": {
    "colab": {
      "name": "spike_sorting_with_CNN.ipynb",
      "provenance": [],
      "collapsed_sections": []
    },
    "kernelspec": {
      "name": "python3",
      "display_name": "Python 3"
    },
    "language_info": {
      "name": "python"
    }
  },
  "cells": [
    {
      "cell_type": "code",
      "metadata": {
        "id": "bJHMqk0Uyi0R"
      },
      "source": [
        "import numpy as np\n",
        "import tensorflow as tf\n",
        "import matplotlib.pyplot as plt\n",
        "from scipy.io import loadmat\n",
        "\n",
        "from tensorflow.keras.layers import Input, Dense, Reshape, Conv1D, MaxPooling1D, Flatten\n",
        "from tensorflow.keras import losses, utils\n",
        "from tensorflow.keras.models import Model"
      ],
      "execution_count": 7,
      "outputs": []
    },
    {
      "cell_type": "code",
      "metadata": {
        "id": "2p2qb1CAKHYK"
      },
      "source": [
        "file = loadmat('/content/drive/MyDrive/spike_data.mat')\n",
        "data = file['wf']"
      ],
      "execution_count": 2,
      "outputs": []
    },
    {
      "cell_type": "code",
      "metadata": {
        "id": "grve_1uIMLmf"
      },
      "source": [
        "# training dataset\n",
        "x_train = data[18][1]\n",
        "x_train = np.append(x_train, data[18][2], axis=0)\n",
        "x_train = np.append(x_train, data[18][4], axis=0)\n",
        "\n",
        "y_train = np.ones(x_train.shape[0])\n",
        "y_train[:data[18][1].shape[0]] = 0\n",
        "y_train[data[18][1].shape[0]:data[18][2].shape[0]] = 1\n",
        "y_train[data[18][2].shape[0]:] = 2\n",
        "y_train = y_train.astype(np.int32)"
      ],
      "execution_count": 3,
      "outputs": []
    },
    {
      "cell_type": "code",
      "metadata": {
        "id": "yjzthFwRcvig"
      },
      "source": [
        "# testing datatest\n",
        "x_test = data[20][1]\n",
        "x_test = np.append(x_test, data[20][2], axis=0)\n",
        "x_test = np.append(x_test, data[20][3], axis=0)\n",
        "\n",
        "y_test = np.ones(x_test.shape[0])\n",
        "y_test[:data[20][1].shape[0]] = 0\n",
        "y_test[data[20][1].shape[0]:data[20][2].shape[0]] = 1\n",
        "y_test[data[20][2].shape[0]:] = 2\n",
        "y_test = y_test.astype(np.int32)"
      ],
      "execution_count": 4,
      "outputs": []
    },
    {
      "cell_type": "code",
      "metadata": {
        "colab": {
          "base_uri": "https://localhost:8080/"
        },
        "id": "S1GGB9In4vCc",
        "outputId": "df264c58-10a0-48d4-f550-9ae29dfb4ce1"
      },
      "source": [
        "def build():\n",
        "  raw_data = Input(shape=(64,1))\n",
        "\n",
        "  conv1 = Conv1D(filters=8, kernel_size=3, strides=1, padding='valid', activation='relu')(raw_data)\n",
        "  pool1 = MaxPooling1D(pool_size=2, strides=1, padding='valid')(conv1)\n",
        "\n",
        "  conv2 = Conv1D(filters=16, kernel_size=3, strides=1, padding='valid', activation='relu')(pool1)\n",
        "  pool2 = MaxPooling1D(pool_size=2, strides=1, padding='valid')(conv2)\n",
        "\n",
        "  conv3 = Conv1D(filters=16, kernel_size=3, strides=1, padding='valid', activation='relu')(pool2)\n",
        "  pool3 = MaxPooling1D(pool_size=2, strides=1, padding='valid')(conv3)\n",
        "\n",
        "  flattened = Flatten()(pool3)\n",
        "\n",
        "  dense = Dense(units=32, activation='relu')(flattened)\n",
        "  output = Dense(units=3, activation='softmax')(dense)\n",
        "\n",
        "  model = Model(inputs=raw_data, outputs=output)\n",
        "  return model\n",
        "\n",
        "spk_sorting_cnn = build()\n",
        "spk_sorting_cnn.compile(optimizer='adam', loss='SparseCategoricalCrossentropy', metrics=['accuracy'])\n",
        "spk_sorting_cnn.summary()"
      ],
      "execution_count": 8,
      "outputs": [
        {
          "output_type": "stream",
          "text": [
            "Model: \"model\"\n",
            "_________________________________________________________________\n",
            "Layer (type)                 Output Shape              Param #   \n",
            "=================================================================\n",
            "input_2 (InputLayer)         [(None, 64, 1)]           0         \n",
            "_________________________________________________________________\n",
            "conv1d_3 (Conv1D)            (None, 62, 8)             32        \n",
            "_________________________________________________________________\n",
            "max_pooling1d_3 (MaxPooling1 (None, 61, 8)             0         \n",
            "_________________________________________________________________\n",
            "conv1d_4 (Conv1D)            (None, 59, 16)            400       \n",
            "_________________________________________________________________\n",
            "max_pooling1d_4 (MaxPooling1 (None, 58, 16)            0         \n",
            "_________________________________________________________________\n",
            "conv1d_5 (Conv1D)            (None, 56, 16)            784       \n",
            "_________________________________________________________________\n",
            "max_pooling1d_5 (MaxPooling1 (None, 55, 16)            0         \n",
            "_________________________________________________________________\n",
            "flatten (Flatten)            (None, 880)               0         \n",
            "_________________________________________________________________\n",
            "dense (Dense)                (None, 32)                28192     \n",
            "_________________________________________________________________\n",
            "dense_1 (Dense)              (None, 3)                 99        \n",
            "=================================================================\n",
            "Total params: 29,507\n",
            "Trainable params: 29,507\n",
            "Non-trainable params: 0\n",
            "_________________________________________________________________\n"
          ],
          "name": "stdout"
        }
      ]
    },
    {
      "cell_type": "code",
      "metadata": {
        "colab": {
          "base_uri": "https://localhost:8080/"
        },
        "id": "5t6KMGyAJ5mQ",
        "outputId": "90291824-6fd1-4b45-f660-8b83fab4c815"
      },
      "source": [
        "h = spk_sorting_cnn.fit(x_train, y_train,\n",
        "                batch_size=320,\n",
        "                epochs=10,\n",
        "                shuffle=True,\n",
        "                validation_data=(x_test, y_test)\n",
        "                )"
      ],
      "execution_count": 9,
      "outputs": [
        {
          "output_type": "stream",
          "text": [
            "Epoch 1/10\n",
            "20/20 [==============================] - 2s 63ms/step - loss: 0.4206 - accuracy: 0.8257 - val_loss: 6.6662 - val_accuracy: 0.3423\n",
            "Epoch 2/10\n",
            "20/20 [==============================] - 1s 53ms/step - loss: 0.2233 - accuracy: 0.8959 - val_loss: 7.0553 - val_accuracy: 0.3499\n",
            "Epoch 3/10\n",
            "20/20 [==============================] - 1s 55ms/step - loss: 0.1988 - accuracy: 0.9126 - val_loss: 6.9829 - val_accuracy: 0.3494\n",
            "Epoch 4/10\n",
            "20/20 [==============================] - 1s 52ms/step - loss: 0.1898 - accuracy: 0.9151 - val_loss: 7.0394 - val_accuracy: 0.3440\n",
            "Epoch 5/10\n",
            "20/20 [==============================] - 1s 50ms/step - loss: 0.1846 - accuracy: 0.9191 - val_loss: 7.4094 - val_accuracy: 0.3541\n",
            "Epoch 6/10\n",
            "20/20 [==============================] - 1s 53ms/step - loss: 0.1927 - accuracy: 0.9086 - val_loss: 7.0429 - val_accuracy: 0.3449\n",
            "Epoch 7/10\n",
            "20/20 [==============================] - 1s 52ms/step - loss: 0.1858 - accuracy: 0.9150 - val_loss: 7.2473 - val_accuracy: 0.3376\n",
            "Epoch 8/10\n",
            "20/20 [==============================] - 1s 51ms/step - loss: 0.1759 - accuracy: 0.9198 - val_loss: 7.0904 - val_accuracy: 0.3431\n",
            "Epoch 9/10\n",
            "20/20 [==============================] - 1s 53ms/step - loss: 0.1742 - accuracy: 0.9198 - val_loss: 7.2785 - val_accuracy: 0.3364\n",
            "Epoch 10/10\n",
            "20/20 [==============================] - 1s 52ms/step - loss: 0.1738 - accuracy: 0.9212 - val_loss: 7.2585 - val_accuracy: 0.3423\n"
          ],
          "name": "stdout"
        }
      ]
    },
    {
      "cell_type": "code",
      "metadata": {
        "id": "9875Q4eV2Yh-"
      },
      "source": [
        "y_predict = spk_sorting_cnn.predict(x_test)"
      ],
      "execution_count": 10,
      "outputs": []
    },
    {
      "cell_type": "code",
      "metadata": {
        "colab": {
          "base_uri": "https://localhost:8080/",
          "height": 35
        },
        "id": "3V4eHpT_3EEy",
        "outputId": "2a78c1bd-0992-4121-fe05-f91edb25545a"
      },
      "source": [
        "'''y_result = np.amax(y_predict, axis=1)\n",
        "print(y_predict)\n",
        "print(y_result)'''"
      ],
      "execution_count": 11,
      "outputs": [
        {
          "output_type": "execute_result",
          "data": {
            "application/vnd.google.colaboratory.intrinsic+json": {
              "type": "string"
            },
            "text/plain": [
              "'y_result = np.amax(y_predict, axis=1)\\nprint(y_predict)\\nprint(y_result)'"
            ]
          },
          "metadata": {
            "tags": []
          },
          "execution_count": 11
        }
      ]
    },
    {
      "cell_type": "code",
      "metadata": {
        "colab": {
          "base_uri": "https://localhost:8080/",
          "height": 573
        },
        "id": "IIiVmC3R5Iyl",
        "outputId": "fee4c4b4-7167-40f9-8b93-2db6f5f41dcd"
      },
      "source": [
        "plt.plot(h.history['accuracy'])\n",
        "plt.plot(h.history['val_accuracy'])\n",
        "plt.title('model accuracy')\n",
        "plt.xticks(range(1, 10))\n",
        "plt.ylabel('accuracy')\n",
        "plt.xlabel('epoch')\n",
        "plt.legend(['train', 'test'], loc='center right')\n",
        "plt.show()\n",
        "#loss model\n",
        "plt.plot(h.history['loss'])\n",
        "plt.plot(h.history['val_loss'])\n",
        "plt.title('model loss')\n",
        "plt.ylabel('loss')\n",
        "plt.xticks(range(1, 10))\n",
        "plt.xlabel('epoch')\n",
        "plt.legend(['train', 'test'], loc='center right')\n",
        "plt.show()"
      ],
      "execution_count": 15,
      "outputs": [
        {
          "output_type": "display_data",
          "data": {
            "image/png": "[encoded data removed]",
            "text/plain": [
              "<Figure size 432x288 with 1 Axes>"
            ]
          },
          "metadata": {
            "tags": [],
            "needs_background": "light"
          }
        },
        {
          "output_type": "display_data",
          "data": {
            "image/png": "[encoded data removed]",
            "text/plain": [
              "<Figure size 432x288 with 1 Axes>"
            ]
          },
          "metadata": {
            "tags": [],
            "needs_background": "light"
          }
        }
      ]
    }
  ]
}