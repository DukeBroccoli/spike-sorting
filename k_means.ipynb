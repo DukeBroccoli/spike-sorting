{
  "nbformat": 4,
  "nbformat_minor": 0,
  "metadata": {
    "colab": {
      "name": "k-means.ipynb",
      "provenance": [],
      "collapsed_sections": []
    },
    "kernelspec": {
      "name": "python3",
      "display_name": "Python 3"
    },
    "language_info": {
      "name": "python"
    }
  },
  "cells": [
    {
      "cell_type": "code",
      "metadata": {
        "id": "LY7R_aFMUQ17"
      },
      "source": [
        "import matplotlib.pyplot as plt\n",
        "import numpy as np\n",
        "from numpy import random, linalg, finfo, mean\n",
        "\n",
        "# randomize k centroids\n",
        "def init_centroids(feature_num, k=3):\n",
        "  centroids = random.uniform(low=-20, high=20, size=(k,2))\n",
        "  return centroids\n",
        "\n",
        "def update_centroid_mean():\n",
        "  pass\n",
        "\n",
        "def update_centroid_softmax():\n",
        "  pass\n",
        "\n",
        "def standard_score():\n",
        "  pass\n",
        "\n",
        "def softmax_score():\n",
        "  pass\n",
        "\n",
        "# input should be of size #data points * #features\n",
        "def k_means(data, k=3, approach='standard'):\n",
        "  # initialize centroids 1 to k\n",
        "  centroids = init_centroids(data.shape[1], k)\n",
        "  num_data = data.shape[0]\n",
        "  # first column: cluster assignment\n",
        "  # second column: L2 distance between point and centroid\n",
        "  cluster_assignment = np.zeros((num_data, 2))\n",
        "  cluster_assignment[:,0] = -1\n",
        "  cluster_reassigned = True\n",
        "  ctr = np.zeros((k), dtype='int32')\n",
        "\n",
        "  while cluster_reassigned:\n",
        "    cluster_reassigned = False\n",
        "    min_dist = finfo('d').max\n",
        "    cluster_idx = -1\n",
        "    for i in range(num_data):\n",
        "      # compute the data point's closest cluster\n",
        "      for j in range(k):\n",
        "        temp_dist = linalg.norm(data[i]-centroids[j])\n",
        "        if temp_dist < min_dist:\n",
        "          min_dist = temp_dist\n",
        "          cluster_idx = j\n",
        "      # re-assign data to its closest cluster\n",
        "      orig_cluster = cluster_assignment[i][0].astype('int32')\n",
        "      if cluster_idx!=orig_cluster:\n",
        "        cluster_reassigned = True\n",
        "        cluster_assignment[i][0] = cluster_idx\n",
        "        cluster_assignment[i][1] = min_dist\n",
        "        if ctr[orig_cluster]>0:\n",
        "          ctr[orig_cluster]-=1\n",
        "        ctr[cluster_idx]+=1\n",
        "        # recompute centroid\n",
        "        points_in_cluster = data[np.where(cluster_assignment[:,0]==cluster_idx)[0]]\n",
        "        centroids[cluster_idx,:] = mean(points_in_cluster, axis=0)\n",
        "    print(ctr)\n",
        "\n",
        "  return cluster_assignment, centroids"
      ],
      "execution_count": 4,
      "outputs": []
    },
    {
      "cell_type": "code",
      "metadata": {
        "id": "-pj-_TK2dSDR"
      },
      "source": [
        "# dimension must be 2 to be plotted\n",
        "def plot_clusters(data, cluster_assignment, centroids):\n",
        "  fig = plt.figure(figsize=(16,16))\n",
        "  plt.title('k-means clustering')\n",
        "  plt.xlabel('dim1')\n",
        "  plt.ylabel('dim2')\n",
        "  colors = ['b', 'g', 'r', 'c', 'k']\n",
        "  k = centroids.shape[0]\n",
        "  for i in range(k):\n",
        "    centroid = centroids[i]\n",
        "    data_cluster_i = np.transpose(data[np.where(cluster_assignment[:,0]==i)[0]])\n",
        "    plt.scatter(centroid[0], centroid[1], c = colors[i], marker='s', s=120)\n",
        "    plt.scatter(data_cluster_i[0,:], data_cluster_i[1,:], c=colors[i], marker='.')\n",
        "  plt.show()"
      ],
      "execution_count": 9,
      "outputs": []
    }
  ]
}